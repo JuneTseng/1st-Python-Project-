{
 "cells": [
  {
   "cell_type": "code",
   "execution_count": 1,
   "metadata": {},
   "outputs": [],
   "source": [
    "import numpy as np\n",
    "import pandas as pd\n",
    "import re\n",
    "import seaborn as sns\n",
    "import matplotlib.pyplot as plt\n",
    "import random"
   ]
  },
  {
   "cell_type": "code",
   "execution_count": null,
   "metadata": {},
   "outputs": [],
   "source": []
  },
  {
   "cell_type": "code",
   "execution_count": null,
   "metadata": {},
   "outputs": [],
   "source": []
  },
  {
   "cell_type": "code",
   "execution_count": null,
   "metadata": {},
   "outputs": [],
   "source": []
  },
  {
   "cell_type": "code",
   "execution_count": null,
   "metadata": {},
   "outputs": [],
   "source": []
  },
  {
   "cell_type": "code",
   "execution_count": 2,
   "metadata": {},
   "outputs": [],
   "source": [
    "\n",
    "#1. Loading files \n",
    "transaction= pd.read_excel('KPMG_VI_New_raw_data_update_finalV2.xlsx', sheet_name='Transactions (2)' )\n",
    "newcustomer=pd.read_excel('KPMG_VI_New_raw_data_update_finalV2.xlsx', sheet_name='NewCustomerList (2)' )\n",
    "demography=pd.read_excel('KPMG_VI_New_raw_data_update_finalV2.xlsx', sheet_name='CustomerDemographic')\n",
    "add=pd.read_excel('KPMG_VI_New_raw_data_update_finalV2.xlsx', sheet_name='CustomerAddress')\n",
    "\n"
   ]
  },
  {
   "cell_type": "code",
   "execution_count": null,
   "metadata": {},
   "outputs": [],
   "source": []
  },
  {
   "cell_type": "code",
   "execution_count": 3,
   "metadata": {
    "scrolled": true
   },
   "outputs": [
    {
     "data": {
      "text/html": [
       "<div>\n",
       "<style scoped>\n",
       "    .dataframe tbody tr th:only-of-type {\n",
       "        vertical-align: middle;\n",
       "    }\n",
       "\n",
       "    .dataframe tbody tr th {\n",
       "        vertical-align: top;\n",
       "    }\n",
       "\n",
       "    .dataframe thead th {\n",
       "        text-align: right;\n",
       "    }\n",
       "</style>\n",
       "<table border=\"1\" class=\"dataframe\">\n",
       "  <thead>\n",
       "    <tr style=\"text-align: right;\">\n",
       "      <th></th>\n",
       "      <th>transaction_id</th>\n",
       "      <th>product_id</th>\n",
       "      <th>customer_id</th>\n",
       "      <th>transaction_date</th>\n",
       "      <th>online_order</th>\n",
       "      <th>order_status</th>\n",
       "      <th>brand</th>\n",
       "      <th>product_line</th>\n",
       "      <th>product_class</th>\n",
       "      <th>product_size</th>\n",
       "      <th>list_price</th>\n",
       "      <th>standard_cost</th>\n",
       "      <th>profit_rate</th>\n",
       "      <th>product_first_sold_date</th>\n",
       "    </tr>\n",
       "  </thead>\n",
       "  <tbody>\n",
       "    <tr>\n",
       "      <td>0</td>\n",
       "      <td>14675</td>\n",
       "      <td>72</td>\n",
       "      <td>2202</td>\n",
       "      <td>2017-01-02</td>\n",
       "      <td>0.0</td>\n",
       "      <td>Approved</td>\n",
       "      <td>Norco Bicycles</td>\n",
       "      <td>Standard</td>\n",
       "      <td>medium</td>\n",
       "      <td>medium</td>\n",
       "      <td>360.40</td>\n",
       "      <td>270.30</td>\n",
       "      <td>0.250000</td>\n",
       "      <td>2016-12-06</td>\n",
       "    </tr>\n",
       "    <tr>\n",
       "      <td>1</td>\n",
       "      <td>6800</td>\n",
       "      <td>0</td>\n",
       "      <td>1427</td>\n",
       "      <td>2017-01-03</td>\n",
       "      <td>0.0</td>\n",
       "      <td>Approved</td>\n",
       "      <td>Norco Bicycles</td>\n",
       "      <td>Standard</td>\n",
       "      <td>medium</td>\n",
       "      <td>medium</td>\n",
       "      <td>360.40</td>\n",
       "      <td>270.30</td>\n",
       "      <td>0.250000</td>\n",
       "      <td>2016-12-06</td>\n",
       "    </tr>\n",
       "    <tr>\n",
       "      <td>2</td>\n",
       "      <td>15602</td>\n",
       "      <td>0</td>\n",
       "      <td>2027</td>\n",
       "      <td>2017-01-03</td>\n",
       "      <td>0.0</td>\n",
       "      <td>Approved</td>\n",
       "      <td>Norco Bicycles</td>\n",
       "      <td>Standard</td>\n",
       "      <td>medium</td>\n",
       "      <td>medium</td>\n",
       "      <td>360.40</td>\n",
       "      <td>270.30</td>\n",
       "      <td>0.250000</td>\n",
       "      <td>2016-12-06</td>\n",
       "    </tr>\n",
       "    <tr>\n",
       "      <td>3</td>\n",
       "      <td>17998</td>\n",
       "      <td>0</td>\n",
       "      <td>2039</td>\n",
       "      <td>2017-01-08</td>\n",
       "      <td>0.0</td>\n",
       "      <td>Approved</td>\n",
       "      <td>Trek Bicycles</td>\n",
       "      <td>Standard</td>\n",
       "      <td>high</td>\n",
       "      <td>medium</td>\n",
       "      <td>495.72</td>\n",
       "      <td>297.43</td>\n",
       "      <td>0.400004</td>\n",
       "      <td>2016-12-06</td>\n",
       "    </tr>\n",
       "    <tr>\n",
       "      <td>4</td>\n",
       "      <td>9772</td>\n",
       "      <td>72</td>\n",
       "      <td>1301</td>\n",
       "      <td>2017-01-09</td>\n",
       "      <td>0.0</td>\n",
       "      <td>Approved</td>\n",
       "      <td>Norco Bicycles</td>\n",
       "      <td>Standard</td>\n",
       "      <td>medium</td>\n",
       "      <td>medium</td>\n",
       "      <td>360.40</td>\n",
       "      <td>270.30</td>\n",
       "      <td>0.250000</td>\n",
       "      <td>2016-12-06</td>\n",
       "    </tr>\n",
       "  </tbody>\n",
       "</table>\n",
       "</div>"
      ],
      "text/plain": [
       "   transaction_id  product_id  customer_id transaction_date  online_order  \\\n",
       "0           14675          72         2202       2017-01-02           0.0   \n",
       "1            6800           0         1427       2017-01-03           0.0   \n",
       "2           15602           0         2027       2017-01-03           0.0   \n",
       "3           17998           0         2039       2017-01-08           0.0   \n",
       "4            9772          72         1301       2017-01-09           0.0   \n",
       "\n",
       "  order_status           brand product_line product_class product_size  \\\n",
       "0     Approved  Norco Bicycles     Standard        medium       medium   \n",
       "1     Approved  Norco Bicycles     Standard        medium       medium   \n",
       "2     Approved  Norco Bicycles     Standard        medium       medium   \n",
       "3     Approved   Trek Bicycles     Standard          high       medium   \n",
       "4     Approved  Norco Bicycles     Standard        medium       medium   \n",
       "\n",
       "   list_price  standard_cost  profit_rate product_first_sold_date  \n",
       "0      360.40         270.30     0.250000              2016-12-06  \n",
       "1      360.40         270.30     0.250000              2016-12-06  \n",
       "2      360.40         270.30     0.250000              2016-12-06  \n",
       "3      495.72         297.43     0.400004              2016-12-06  \n",
       "4      360.40         270.30     0.250000              2016-12-06  "
      ]
     },
     "execution_count": 3,
     "metadata": {},
     "output_type": "execute_result"
    }
   ],
   "source": [
    "transaction.head()"
   ]
  },
  {
   "cell_type": "code",
   "execution_count": null,
   "metadata": {},
   "outputs": [],
   "source": []
  },
  {
   "cell_type": "code",
   "execution_count": 4,
   "metadata": {},
   "outputs": [
    {
     "data": {
      "text/html": [
       "<div>\n",
       "<style scoped>\n",
       "    .dataframe tbody tr th:only-of-type {\n",
       "        vertical-align: middle;\n",
       "    }\n",
       "\n",
       "    .dataframe tbody tr th {\n",
       "        vertical-align: top;\n",
       "    }\n",
       "\n",
       "    .dataframe thead th {\n",
       "        text-align: right;\n",
       "    }\n",
       "</style>\n",
       "<table border=\"1\" class=\"dataframe\">\n",
       "  <thead>\n",
       "    <tr style=\"text-align: right;\">\n",
       "      <th></th>\n",
       "      <th>first_name</th>\n",
       "      <th>last_name</th>\n",
       "      <th>gender</th>\n",
       "      <th>past_3_years_bike_related_purchases</th>\n",
       "      <th>DOB</th>\n",
       "      <th>job_title</th>\n",
       "      <th>job_industry_category</th>\n",
       "      <th>wealth_segment</th>\n",
       "      <th>deceased_indicator</th>\n",
       "      <th>owns_car</th>\n",
       "      <th>...</th>\n",
       "      <th>property_valuation</th>\n",
       "      <th>Unnamed: 16</th>\n",
       "      <th>Unnamed: 17</th>\n",
       "      <th>Unnamed: 18</th>\n",
       "      <th>Unnamed: 19</th>\n",
       "      <th>Unnamed: 20</th>\n",
       "      <th>Rank</th>\n",
       "      <th>Value</th>\n",
       "      <th>Date</th>\n",
       "      <th>Age</th>\n",
       "    </tr>\n",
       "  </thead>\n",
       "  <tbody>\n",
       "    <tr>\n",
       "      <td>995</td>\n",
       "      <td>Burk</td>\n",
       "      <td>Wortley</td>\n",
       "      <td>Male</td>\n",
       "      <td>22</td>\n",
       "      <td>2001-10-17</td>\n",
       "      <td>Senior Sales Associate</td>\n",
       "      <td>Health</td>\n",
       "      <td>Mass Customer</td>\n",
       "      <td>N</td>\n",
       "      <td>No</td>\n",
       "      <td>...</td>\n",
       "      <td>10</td>\n",
       "      <td>0.75</td>\n",
       "      <td>0.750</td>\n",
       "      <td>0.9375</td>\n",
       "      <td>0.796875</td>\n",
       "      <td>9</td>\n",
       "      <td>997</td>\n",
       "      <td>0.357000</td>\n",
       "      <td>2019-11-30</td>\n",
       "      <td>18.0</td>\n",
       "    </tr>\n",
       "    <tr>\n",
       "      <td>996</td>\n",
       "      <td>Tomkin</td>\n",
       "      <td>Bernlin</td>\n",
       "      <td>Male</td>\n",
       "      <td>7</td>\n",
       "      <td>2001-12-29</td>\n",
       "      <td>Food Chemist</td>\n",
       "      <td>Health</td>\n",
       "      <td>Affluent Customer</td>\n",
       "      <td>N</td>\n",
       "      <td>Yes</td>\n",
       "      <td>...</td>\n",
       "      <td>3</td>\n",
       "      <td>0.72</td>\n",
       "      <td>0.900</td>\n",
       "      <td>0.9000</td>\n",
       "      <td>0.900000</td>\n",
       "      <td>4</td>\n",
       "      <td>475</td>\n",
       "      <td>0.881875</td>\n",
       "      <td>2019-11-30</td>\n",
       "      <td>17.0</td>\n",
       "    </tr>\n",
       "    <tr>\n",
       "      <td>997</td>\n",
       "      <td>Simmonds</td>\n",
       "      <td>Bapty</td>\n",
       "      <td>Male</td>\n",
       "      <td>52</td>\n",
       "      <td>2002-01-04</td>\n",
       "      <td>Junior Executive</td>\n",
       "      <td>Financial Services</td>\n",
       "      <td>Affluent Customer</td>\n",
       "      <td>N</td>\n",
       "      <td>No</td>\n",
       "      <td>...</td>\n",
       "      <td>12</td>\n",
       "      <td>0.89</td>\n",
       "      <td>0.890</td>\n",
       "      <td>1.1125</td>\n",
       "      <td>1.112500</td>\n",
       "      <td>5</td>\n",
       "      <td>760</td>\n",
       "      <td>0.637500</td>\n",
       "      <td>2019-11-30</td>\n",
       "      <td>17.0</td>\n",
       "    </tr>\n",
       "    <tr>\n",
       "      <td>998</td>\n",
       "      <td>Lura</td>\n",
       "      <td>Fawdrie</td>\n",
       "      <td>Female</td>\n",
       "      <td>66</td>\n",
       "      <td>2002-01-17</td>\n",
       "      <td>VP Sales</td>\n",
       "      <td>Health</td>\n",
       "      <td>Mass Customer</td>\n",
       "      <td>N</td>\n",
       "      <td>Yes</td>\n",
       "      <td>...</td>\n",
       "      <td>3</td>\n",
       "      <td>1.08</td>\n",
       "      <td>1.350</td>\n",
       "      <td>1.3500</td>\n",
       "      <td>1.147500</td>\n",
       "      <td>2</td>\n",
       "      <td>396</td>\n",
       "      <td>0.937500</td>\n",
       "      <td>2019-11-30</td>\n",
       "      <td>17.0</td>\n",
       "    </tr>\n",
       "    <tr>\n",
       "      <td>999</td>\n",
       "      <td>Giulietta</td>\n",
       "      <td>Garbott</td>\n",
       "      <td>Female</td>\n",
       "      <td>59</td>\n",
       "      <td>2002-02-27</td>\n",
       "      <td>Technical Writer</td>\n",
       "      <td>NaN</td>\n",
       "      <td>Affluent Customer</td>\n",
       "      <td>N</td>\n",
       "      <td>Yes</td>\n",
       "      <td>...</td>\n",
       "      <td>5</td>\n",
       "      <td>0.78</td>\n",
       "      <td>0.975</td>\n",
       "      <td>0.9750</td>\n",
       "      <td>0.975000</td>\n",
       "      <td>1</td>\n",
       "      <td>355</td>\n",
       "      <td>0.984375</td>\n",
       "      <td>2019-11-30</td>\n",
       "      <td>17.0</td>\n",
       "    </tr>\n",
       "  </tbody>\n",
       "</table>\n",
       "<p>5 rows × 25 columns</p>\n",
       "</div>"
      ],
      "text/plain": [
       "    first_name last_name  gender  past_3_years_bike_related_purchases  \\\n",
       "995       Burk   Wortley    Male                                   22   \n",
       "996     Tomkin   Bernlin    Male                                    7   \n",
       "997   Simmonds     Bapty    Male                                   52   \n",
       "998       Lura   Fawdrie  Female                                   66   \n",
       "999  Giulietta   Garbott  Female                                   59   \n",
       "\n",
       "            DOB               job_title job_industry_category  \\\n",
       "995  2001-10-17  Senior Sales Associate                Health   \n",
       "996  2001-12-29            Food Chemist                Health   \n",
       "997  2002-01-04        Junior Executive    Financial Services   \n",
       "998  2002-01-17                VP Sales                Health   \n",
       "999  2002-02-27        Technical Writer                   NaN   \n",
       "\n",
       "        wealth_segment deceased_indicator owns_car  ...  property_valuation  \\\n",
       "995      Mass Customer                  N       No  ...                  10   \n",
       "996  Affluent Customer                  N      Yes  ...                   3   \n",
       "997  Affluent Customer                  N       No  ...                  12   \n",
       "998      Mass Customer                  N      Yes  ...                   3   \n",
       "999  Affluent Customer                  N      Yes  ...                   5   \n",
       "\n",
       "    Unnamed: 16  Unnamed: 17 Unnamed: 18 Unnamed: 19  Unnamed: 20  Rank  \\\n",
       "995        0.75        0.750      0.9375    0.796875            9   997   \n",
       "996        0.72        0.900      0.9000    0.900000            4   475   \n",
       "997        0.89        0.890      1.1125    1.112500            5   760   \n",
       "998        1.08        1.350      1.3500    1.147500            2   396   \n",
       "999        0.78        0.975      0.9750    0.975000            1   355   \n",
       "\n",
       "        Value       Date   Age  \n",
       "995  0.357000 2019-11-30  18.0  \n",
       "996  0.881875 2019-11-30  17.0  \n",
       "997  0.637500 2019-11-30  17.0  \n",
       "998  0.937500 2019-11-30  17.0  \n",
       "999  0.984375 2019-11-30  17.0  \n",
       "\n",
       "[5 rows x 25 columns]"
      ]
     },
     "execution_count": 4,
     "metadata": {},
     "output_type": "execute_result"
    }
   ],
   "source": [
    "newcustomer.tail()"
   ]
  },
  {
   "cell_type": "code",
   "execution_count": 5,
   "metadata": {},
   "outputs": [
    {
     "data": {
      "text/plain": [
       "customer_id                              0\n",
       "first_name                               0\n",
       "last_name                              125\n",
       "gender                                   0\n",
       "past_3_years_bike_related_purchases      0\n",
       "DOB                                     87\n",
       "job_title                              506\n",
       "job_industry_category                  656\n",
       "wealth_segment                           0\n",
       "deceased_indicator                       0\n",
       "default                                302\n",
       "owns_car                                 0\n",
       "tenure                                  87\n",
       "Date                                     0\n",
       "Age                                     87\n",
       "dtype: int64"
      ]
     },
     "execution_count": 5,
     "metadata": {},
     "output_type": "execute_result"
    }
   ],
   "source": [
    "demography.isnull().sum()"
   ]
  },
  {
   "cell_type": "code",
   "execution_count": 6,
   "metadata": {},
   "outputs": [
    {
     "data": {
      "text/html": [
       "<div>\n",
       "<style scoped>\n",
       "    .dataframe tbody tr th:only-of-type {\n",
       "        vertical-align: middle;\n",
       "    }\n",
       "\n",
       "    .dataframe tbody tr th {\n",
       "        vertical-align: top;\n",
       "    }\n",
       "\n",
       "    .dataframe thead th {\n",
       "        text-align: right;\n",
       "    }\n",
       "</style>\n",
       "<table border=\"1\" class=\"dataframe\">\n",
       "  <thead>\n",
       "    <tr style=\"text-align: right;\">\n",
       "      <th></th>\n",
       "      <th>transaction_id</th>\n",
       "      <th>product_id</th>\n",
       "      <th>customer_id</th>\n",
       "      <th>online_order</th>\n",
       "      <th>list_price</th>\n",
       "      <th>standard_cost</th>\n",
       "      <th>profit_rate</th>\n",
       "    </tr>\n",
       "  </thead>\n",
       "  <tbody>\n",
       "    <tr>\n",
       "      <td>count</td>\n",
       "      <td>20000.000000</td>\n",
       "      <td>20000.00000</td>\n",
       "      <td>20000.000000</td>\n",
       "      <td>19640.000000</td>\n",
       "      <td>20000.000000</td>\n",
       "      <td>19803.000000</td>\n",
       "      <td>19803.000000</td>\n",
       "    </tr>\n",
       "    <tr>\n",
       "      <td>mean</td>\n",
       "      <td>10000.500000</td>\n",
       "      <td>45.36465</td>\n",
       "      <td>1738.246050</td>\n",
       "      <td>0.500458</td>\n",
       "      <td>1107.829449</td>\n",
       "      <td>556.046951</td>\n",
       "      <td>0.446065</td>\n",
       "    </tr>\n",
       "    <tr>\n",
       "      <td>std</td>\n",
       "      <td>5773.647028</td>\n",
       "      <td>30.75359</td>\n",
       "      <td>1011.951046</td>\n",
       "      <td>0.500013</td>\n",
       "      <td>582.825242</td>\n",
       "      <td>405.955660</td>\n",
       "      <td>0.264221</td>\n",
       "    </tr>\n",
       "    <tr>\n",
       "      <td>min</td>\n",
       "      <td>1.000000</td>\n",
       "      <td>0.00000</td>\n",
       "      <td>1.000000</td>\n",
       "      <td>0.000000</td>\n",
       "      <td>12.010000</td>\n",
       "      <td>7.210000</td>\n",
       "      <td>0.072214</td>\n",
       "    </tr>\n",
       "    <tr>\n",
       "      <td>25%</td>\n",
       "      <td>5000.750000</td>\n",
       "      <td>18.00000</td>\n",
       "      <td>857.750000</td>\n",
       "      <td>0.000000</td>\n",
       "      <td>575.270000</td>\n",
       "      <td>215.140000</td>\n",
       "      <td>0.249973</td>\n",
       "    </tr>\n",
       "    <tr>\n",
       "      <td>50%</td>\n",
       "      <td>10000.500000</td>\n",
       "      <td>44.00000</td>\n",
       "      <td>1736.000000</td>\n",
       "      <td>1.000000</td>\n",
       "      <td>1163.890000</td>\n",
       "      <td>507.580000</td>\n",
       "      <td>0.399998</td>\n",
       "    </tr>\n",
       "    <tr>\n",
       "      <td>75%</td>\n",
       "      <td>15000.250000</td>\n",
       "      <td>72.00000</td>\n",
       "      <td>2613.000000</td>\n",
       "      <td>1.000000</td>\n",
       "      <td>1635.300000</td>\n",
       "      <td>795.100000</td>\n",
       "      <td>0.676080</td>\n",
       "    </tr>\n",
       "    <tr>\n",
       "      <td>max</td>\n",
       "      <td>20000.000000</td>\n",
       "      <td>100.00000</td>\n",
       "      <td>5034.000000</td>\n",
       "      <td>1.000000</td>\n",
       "      <td>2091.470000</td>\n",
       "      <td>1759.850000</td>\n",
       "      <td>0.989604</td>\n",
       "    </tr>\n",
       "  </tbody>\n",
       "</table>\n",
       "</div>"
      ],
      "text/plain": [
       "       transaction_id   product_id   customer_id  online_order    list_price  \\\n",
       "count    20000.000000  20000.00000  20000.000000  19640.000000  20000.000000   \n",
       "mean     10000.500000     45.36465   1738.246050      0.500458   1107.829449   \n",
       "std       5773.647028     30.75359   1011.951046      0.500013    582.825242   \n",
       "min          1.000000      0.00000      1.000000      0.000000     12.010000   \n",
       "25%       5000.750000     18.00000    857.750000      0.000000    575.270000   \n",
       "50%      10000.500000     44.00000   1736.000000      1.000000   1163.890000   \n",
       "75%      15000.250000     72.00000   2613.000000      1.000000   1635.300000   \n",
       "max      20000.000000    100.00000   5034.000000      1.000000   2091.470000   \n",
       "\n",
       "       standard_cost   profit_rate  \n",
       "count   19803.000000  19803.000000  \n",
       "mean      556.046951      0.446065  \n",
       "std       405.955660      0.264221  \n",
       "min         7.210000      0.072214  \n",
       "25%       215.140000      0.249973  \n",
       "50%       507.580000      0.399998  \n",
       "75%       795.100000      0.676080  \n",
       "max      1759.850000      0.989604  "
      ]
     },
     "execution_count": 6,
     "metadata": {},
     "output_type": "execute_result"
    }
   ],
   "source": [
    "transaction.head()\n",
    "transaction.describe()"
   ]
  },
  {
   "cell_type": "code",
   "execution_count": 7,
   "metadata": {},
   "outputs": [
    {
     "data": {
      "text/html": [
       "<div>\n",
       "<style scoped>\n",
       "    .dataframe tbody tr th:only-of-type {\n",
       "        vertical-align: middle;\n",
       "    }\n",
       "\n",
       "    .dataframe tbody tr th {\n",
       "        vertical-align: top;\n",
       "    }\n",
       "\n",
       "    .dataframe thead th {\n",
       "        text-align: right;\n",
       "    }\n",
       "</style>\n",
       "<table border=\"1\" class=\"dataframe\">\n",
       "  <thead>\n",
       "    <tr style=\"text-align: right;\">\n",
       "      <th></th>\n",
       "      <th>customer_id</th>\n",
       "      <th>past_3_years_bike_related_purchases</th>\n",
       "      <th>tenure</th>\n",
       "      <th>Age</th>\n",
       "    </tr>\n",
       "  </thead>\n",
       "  <tbody>\n",
       "    <tr>\n",
       "      <td>count</td>\n",
       "      <td>4000.000000</td>\n",
       "      <td>4000.000000</td>\n",
       "      <td>3913.000000</td>\n",
       "      <td>3913.000000</td>\n",
       "    </tr>\n",
       "    <tr>\n",
       "      <td>mean</td>\n",
       "      <td>2000.500000</td>\n",
       "      <td>48.890000</td>\n",
       "      <td>10.657041</td>\n",
       "      <td>41.880910</td>\n",
       "    </tr>\n",
       "    <tr>\n",
       "      <td>std</td>\n",
       "      <td>1154.844867</td>\n",
       "      <td>28.715005</td>\n",
       "      <td>5.660146</td>\n",
       "      <td>12.623222</td>\n",
       "    </tr>\n",
       "    <tr>\n",
       "      <td>min</td>\n",
       "      <td>1.000000</td>\n",
       "      <td>0.000000</td>\n",
       "      <td>1.000000</td>\n",
       "      <td>17.000000</td>\n",
       "    </tr>\n",
       "    <tr>\n",
       "      <td>25%</td>\n",
       "      <td>1000.750000</td>\n",
       "      <td>24.000000</td>\n",
       "      <td>6.000000</td>\n",
       "      <td>32.000000</td>\n",
       "    </tr>\n",
       "    <tr>\n",
       "      <td>50%</td>\n",
       "      <td>2000.500000</td>\n",
       "      <td>48.000000</td>\n",
       "      <td>11.000000</td>\n",
       "      <td>42.000000</td>\n",
       "    </tr>\n",
       "    <tr>\n",
       "      <td>75%</td>\n",
       "      <td>3000.250000</td>\n",
       "      <td>73.000000</td>\n",
       "      <td>15.000000</td>\n",
       "      <td>51.000000</td>\n",
       "    </tr>\n",
       "    <tr>\n",
       "      <td>max</td>\n",
       "      <td>4000.000000</td>\n",
       "      <td>99.000000</td>\n",
       "      <td>22.000000</td>\n",
       "      <td>88.000000</td>\n",
       "    </tr>\n",
       "  </tbody>\n",
       "</table>\n",
       "</div>"
      ],
      "text/plain": [
       "       customer_id  past_3_years_bike_related_purchases       tenure  \\\n",
       "count  4000.000000                          4000.000000  3913.000000   \n",
       "mean   2000.500000                            48.890000    10.657041   \n",
       "std    1154.844867                            28.715005     5.660146   \n",
       "min       1.000000                             0.000000     1.000000   \n",
       "25%    1000.750000                            24.000000     6.000000   \n",
       "50%    2000.500000                            48.000000    11.000000   \n",
       "75%    3000.250000                            73.000000    15.000000   \n",
       "max    4000.000000                            99.000000    22.000000   \n",
       "\n",
       "               Age  \n",
       "count  3913.000000  \n",
       "mean     41.880910  \n",
       "std      12.623222  \n",
       "min      17.000000  \n",
       "25%      32.000000  \n",
       "50%      42.000000  \n",
       "75%      51.000000  \n",
       "max      88.000000  "
      ]
     },
     "execution_count": 7,
     "metadata": {},
     "output_type": "execute_result"
    }
   ],
   "source": [
    "demography.head()\n",
    "demography.describe()"
   ]
  },
  {
   "cell_type": "code",
   "execution_count": null,
   "metadata": {},
   "outputs": [],
   "source": []
  },
  {
   "cell_type": "code",
   "execution_count": 8,
   "metadata": {},
   "outputs": [
    {
     "data": {
      "text/html": [
       "<div>\n",
       "<style scoped>\n",
       "    .dataframe tbody tr th:only-of-type {\n",
       "        vertical-align: middle;\n",
       "    }\n",
       "\n",
       "    .dataframe tbody tr th {\n",
       "        vertical-align: top;\n",
       "    }\n",
       "\n",
       "    .dataframe thead th {\n",
       "        text-align: right;\n",
       "    }\n",
       "</style>\n",
       "<table border=\"1\" class=\"dataframe\">\n",
       "  <thead>\n",
       "    <tr style=\"text-align: right;\">\n",
       "      <th></th>\n",
       "      <th>customer_id</th>\n",
       "      <th>postcode</th>\n",
       "      <th>property_valuation</th>\n",
       "    </tr>\n",
       "  </thead>\n",
       "  <tbody>\n",
       "    <tr>\n",
       "      <td>count</td>\n",
       "      <td>3999.000000</td>\n",
       "      <td>3999.000000</td>\n",
       "      <td>3999.000000</td>\n",
       "    </tr>\n",
       "    <tr>\n",
       "      <td>mean</td>\n",
       "      <td>2003.987997</td>\n",
       "      <td>2985.755939</td>\n",
       "      <td>7.514379</td>\n",
       "    </tr>\n",
       "    <tr>\n",
       "      <td>std</td>\n",
       "      <td>1154.576912</td>\n",
       "      <td>844.878364</td>\n",
       "      <td>2.824663</td>\n",
       "    </tr>\n",
       "    <tr>\n",
       "      <td>min</td>\n",
       "      <td>1.000000</td>\n",
       "      <td>2000.000000</td>\n",
       "      <td>1.000000</td>\n",
       "    </tr>\n",
       "    <tr>\n",
       "      <td>25%</td>\n",
       "      <td>1004.500000</td>\n",
       "      <td>2200.000000</td>\n",
       "      <td>6.000000</td>\n",
       "    </tr>\n",
       "    <tr>\n",
       "      <td>50%</td>\n",
       "      <td>2004.000000</td>\n",
       "      <td>2768.000000</td>\n",
       "      <td>8.000000</td>\n",
       "    </tr>\n",
       "    <tr>\n",
       "      <td>75%</td>\n",
       "      <td>3003.500000</td>\n",
       "      <td>3750.000000</td>\n",
       "      <td>10.000000</td>\n",
       "    </tr>\n",
       "    <tr>\n",
       "      <td>max</td>\n",
       "      <td>4003.000000</td>\n",
       "      <td>4883.000000</td>\n",
       "      <td>12.000000</td>\n",
       "    </tr>\n",
       "  </tbody>\n",
       "</table>\n",
       "</div>"
      ],
      "text/plain": [
       "       customer_id     postcode  property_valuation\n",
       "count  3999.000000  3999.000000         3999.000000\n",
       "mean   2003.987997  2985.755939            7.514379\n",
       "std    1154.576912   844.878364            2.824663\n",
       "min       1.000000  2000.000000            1.000000\n",
       "25%    1004.500000  2200.000000            6.000000\n",
       "50%    2004.000000  2768.000000            8.000000\n",
       "75%    3003.500000  3750.000000           10.000000\n",
       "max    4003.000000  4883.000000           12.000000"
      ]
     },
     "execution_count": 8,
     "metadata": {},
     "output_type": "execute_result"
    }
   ],
   "source": [
    "add.head()\n",
    "add.describe()"
   ]
  },
  {
   "cell_type": "code",
   "execution_count": 9,
   "metadata": {},
   "outputs": [],
   "source": [
    "#Step1. Understand your data "
   ]
  },
  {
   "cell_type": "code",
   "execution_count": 10,
   "metadata": {
    "scrolled": true
   },
   "outputs": [
    {
     "name": "stdout",
     "output_type": "stream",
     "text": [
      "No. unique customer id-Add 3999\n",
      "No. unique customer id-Demography 4000\n",
      "No. unique customer id-Transaction 3494\n"
     ]
    }
   ],
   "source": [
    "#1.1 Basic info \n",
    "\n",
    "print(\"No. unique customer id-Add\", len(set(add.customer_id)))\n",
    "print(\"No. unique customer id-Demography\", len(set(demography.customer_id)))\n",
    "print(\"No. unique customer id-Transaction\",len(set(transaction.customer_id)))"
   ]
  },
  {
   "cell_type": "code",
   "execution_count": 11,
   "metadata": {},
   "outputs": [
    {
     "name": "stdout",
     "output_type": "stream",
     "text": [
      "transaction_id             0.00000\n",
      "product_id                 0.00000\n",
      "customer_id                0.00000\n",
      "transaction_date           0.00000\n",
      "online_order               0.01800\n",
      "order_status               0.00000\n",
      "brand                      0.00985\n",
      "product_line               0.00985\n",
      "product_class              0.00985\n",
      "product_size               0.00985\n",
      "list_price                 0.00000\n",
      "standard_cost              0.00985\n",
      "profit_rate                0.00985\n",
      "product_first_sold_date    0.00985\n",
      "dtype: float64\n",
      "first_name                             0.000\n",
      "last_name                              0.029\n",
      "gender                                 0.000\n",
      "past_3_years_bike_related_purchases    0.000\n",
      "DOB                                    0.017\n",
      "job_title                              0.106\n",
      "job_industry_category                  0.165\n",
      "wealth_segment                         0.000\n",
      "deceased_indicator                     0.000\n",
      "owns_car                               0.000\n",
      "tenure                                 0.000\n",
      "address                                0.000\n",
      "postcode                               0.000\n",
      "state                                  0.000\n",
      "country                                0.000\n",
      "property_valuation                     0.000\n",
      "Unnamed: 16                            0.000\n",
      "Unnamed: 17                            0.000\n",
      "Unnamed: 18                            0.000\n",
      "Unnamed: 19                            0.000\n",
      "Unnamed: 20                            0.000\n",
      "Rank                                   0.000\n",
      "Value                                  0.000\n",
      "Date                                   0.000\n",
      "Age                                    0.017\n",
      "dtype: float64\n",
      "customer_id                            0.00000\n",
      "first_name                             0.00000\n",
      "last_name                              0.03125\n",
      "gender                                 0.00000\n",
      "past_3_years_bike_related_purchases    0.00000\n",
      "DOB                                    0.02175\n",
      "job_title                              0.12650\n",
      "job_industry_category                  0.16400\n",
      "wealth_segment                         0.00000\n",
      "deceased_indicator                     0.00000\n",
      "default                                0.07550\n",
      "owns_car                               0.00000\n",
      "tenure                                 0.02175\n",
      "Date                                   0.00000\n",
      "Age                                    0.02175\n",
      "dtype: float64\n",
      "customer_id           0.0\n",
      "address               0.0\n",
      "postcode              0.0\n",
      "state                 0.0\n",
      "country               0.0\n",
      "property_valuation    0.0\n",
      "dtype: float64\n"
     ]
    }
   ],
   "source": [
    "#1.2 The percentage of missing values for each column\n",
    "print(transaction.isnull().sum()/len(transaction))\n",
    "print(newcustomer.isnull().sum()/len(newcustomer))\n",
    "print(demography.isnull().sum()/len(demography))\n",
    "print(add.isnull().sum()/len(add))"
   ]
  },
  {
   "cell_type": "code",
   "execution_count": 12,
   "metadata": {},
   "outputs": [
    {
     "name": "stdout",
     "output_type": "stream",
     "text": [
      "transaction_id               0\n",
      "product_id                   0\n",
      "customer_id                  0\n",
      "transaction_date             0\n",
      "online_order               360\n",
      "order_status                 0\n",
      "brand                      197\n",
      "product_line               197\n",
      "product_class              197\n",
      "product_size               197\n",
      "list_price                   0\n",
      "standard_cost              197\n",
      "profit_rate                197\n",
      "product_first_sold_date    197\n",
      "dtype: int64\n",
      "first_name                               0\n",
      "last_name                               29\n",
      "gender                                   0\n",
      "past_3_years_bike_related_purchases      0\n",
      "DOB                                     17\n",
      "job_title                              106\n",
      "job_industry_category                  165\n",
      "wealth_segment                           0\n",
      "deceased_indicator                       0\n",
      "owns_car                                 0\n",
      "tenure                                   0\n",
      "address                                  0\n",
      "postcode                                 0\n",
      "state                                    0\n",
      "country                                  0\n",
      "property_valuation                       0\n",
      "Unnamed: 16                              0\n",
      "Unnamed: 17                              0\n",
      "Unnamed: 18                              0\n",
      "Unnamed: 19                              0\n",
      "Unnamed: 20                              0\n",
      "Rank                                     0\n",
      "Value                                    0\n",
      "Date                                     0\n",
      "Age                                     17\n",
      "dtype: int64\n",
      "customer_id                              0\n",
      "first_name                               0\n",
      "last_name                              125\n",
      "gender                                   0\n",
      "past_3_years_bike_related_purchases      0\n",
      "DOB                                     87\n",
      "job_title                              506\n",
      "job_industry_category                  656\n",
      "wealth_segment                           0\n",
      "deceased_indicator                       0\n",
      "default                                302\n",
      "owns_car                                 0\n",
      "tenure                                  87\n",
      "Date                                     0\n",
      "Age                                     87\n",
      "dtype: int64\n",
      "customer_id           0\n",
      "address               0\n",
      "postcode              0\n",
      "state                 0\n",
      "country               0\n",
      "property_valuation    0\n",
      "dtype: int64\n"
     ]
    }
   ],
   "source": [
    "#1.3 The number of missinge values \n",
    "\n",
    "print(transaction.isnull().sum())\n",
    "print(newcustomer.isnull().sum())\n",
    "print(demography.isnull().sum())\n",
    "print(add.isnull().sum())"
   ]
  },
  {
   "cell_type": "code",
   "execution_count": 13,
   "metadata": {},
   "outputs": [
    {
     "data": {
      "image/png": "[encoded data removed]",
      "text/plain": [
       "<Figure size 432x288 with 1 Axes>"
      ]
     },
     "metadata": {
      "needs_background": "light"
     },
     "output_type": "display_data"
    },
    {
     "data": {
      "text/plain": [
       "([0, 1, 2], <a list of 3 Text xticklabel objects>)"
      ]
     },
     "execution_count": 13,
     "metadata": {},
     "output_type": "execute_result"
    },
    {
     "data": {
      "image/png": "[encoded data removed]",
      "text/plain": [
       "<Figure size 432x288 with 2 Axes>"
      ]
     },
     "metadata": {
      "needs_background": "light"
     },
     "output_type": "display_data"
    }
   ],
   "source": [
    "#Step2. Data ingestion \n",
    "\n",
    "\"\"\"\n",
    "    Level 1 - merge customer's info together ( customers address + customer dempgraphy = Merge_data 1)\n",
    "    Level 2 - clean  Merge_data 1\n",
    "              -> Get the clean Merge_data 1\n",
    "    Level 3 - merge  Merge_data 1 with transaction ion ( Merge_data 1+ transaction = merge_transaction)\n",
    "    Level 4 - clean merge_transaction\n",
    "    Level 5 - drop irrelevant column and mapping values \n",
    "    \n",
    "\"\"\"\n",
    "#2.1 Cleaning data fill out the missing values \n",
    "\n",
    "#Determine the missing values strategy \n",
    "\"\"\"\n",
    " Merge add+demography:\n",
    "   -drop the missing values if the missing values % less than 0.01\n",
    "   -age-> average\n",
    "   -job title -> will not be included in the model analysis\n",
    "   -job industry -> fill the most poplar industry in the state \n",
    "       QLC- Construction (https://itt.abs.gov.au/itt/r.jsp?RegionSummary&region=3&dataset=ABS_REGIONAL_ASGS2016&geoconcept=ASGS_2016&measure=MEASURE&datasetASGS=ABS_REGIONAL_ASGS2016&datasetLGA=ABS_REGIONAL_LGA2018&regionLGA=LGA_2018&regionASGS=ASGS_2016)\n",
    "       NSW- Construction\n",
    "       VIC- Construction\n",
    "   -tenure -> median \n",
    "\n",
    "\"\"\"\n",
    "\n",
    "\n",
    "#2.2 merger data add+demo for customer' info mation \n",
    "\n",
    "merge_1= pd.merge(demography,add, how='outer', on='customer_id', indicator= True).sort_values(by='customer_id') #Outer merge add+dem\n",
    "\n",
    "\n",
    "#2.3 plot the graph to demonstrate the demography\n",
    "\n",
    "plt.subplot(2, 2, 1)\n",
    "\n",
    "    #Histogram for age\n",
    "merge_1['Age'].hist()\n",
    "\n",
    "    # labels and display\n",
    "plt.title(\"Distribution of age \")\n",
    "plt.xlabel(\"age\")\n",
    "plt.show()\n",
    "\n",
    "\n",
    "\n",
    "    # his industry & wealth segment \n",
    "\n",
    "plt.subplot(2, 2, 2)\n",
    "merge_1['job_industry_category'].hist()\n",
    "plt.title('distribution of industry_category')\n",
    "plt.xlabel('Industry')\n",
    "plt.xticks(rotation=90)\n",
    "\n",
    "\n",
    "plt.subplot(2, 2, 3)\n",
    "merge_1['wealth_segment'].hist()\n",
    "plt.title('distribution of wealth segment')\n",
    "plt.xlabel('Wealth segment')\n",
    "plt.xticks(rotation=30)\n",
    "\n",
    "\n",
    " "
   ]
  },
  {
   "cell_type": "code",
   "execution_count": 14,
   "metadata": {},
   "outputs": [
    {
     "name": "stdout",
     "output_type": "stream",
     "text": [
      "customer_id                            0.000000\n",
      "first_name                             0.000749\n",
      "last_name                              0.031976\n",
      "gender                                 0.000749\n",
      "past_3_years_bike_related_purchases    0.000749\n",
      "DOB                                    0.022483\n",
      "job_title                              0.127155\n",
      "job_industry_category                  0.164627\n",
      "wealth_segment                         0.000749\n",
      "deceased_indicator                     0.000749\n",
      "default                                0.076193\n",
      "owns_car                               0.000749\n",
      "tenure                                 0.022483\n",
      "Date                                   0.000749\n",
      "Age                                    0.022483\n",
      "address                                0.000999\n",
      "postcode                               0.000999\n",
      "state                                  0.000999\n",
      "country                                0.000999\n",
      "property_valuation                     0.000999\n",
      "_merge                                 0.000000\n",
      "dtype: float64\n"
     ]
    }
   ],
   "source": [
    "print(merge_1.isnull().sum()/len(merge_1))"
   ]
  },
  {
   "cell_type": "code",
   "execution_count": 15,
   "metadata": {},
   "outputs": [
    {
     "name": "stdout",
     "output_type": "stream",
     "text": [
      "customer_id                            0.000000\n",
      "first_name                             0.000749\n",
      "last_name                              0.031976\n",
      "gender                                 0.000749\n",
      "past_3_years_bike_related_purchases    0.000749\n",
      "DOB                                    0.022483\n",
      "job_title                              0.127155\n",
      "job_industry_category                  0.164627\n",
      "wealth_segment                         0.000749\n",
      "deceased_indicator                     0.000749\n",
      "default                                0.076193\n",
      "owns_car                               0.000749\n",
      "tenure                                 0.022483\n",
      "Date                                   0.000749\n",
      "Age                                    0.022483\n",
      "address                                0.000999\n",
      "postcode                               0.000999\n",
      "state                                  0.000999\n",
      "country                                0.000999\n",
      "property_valuation                     0.000999\n",
      "_merge                                 0.000000\n",
      "dtype: float64\n"
     ]
    }
   ],
   "source": [
    "print(merge_1.isnull().sum()/len(merge_1))"
   ]
  },
  {
   "cell_type": "code",
   "execution_count": 16,
   "metadata": {},
   "outputs": [],
   "source": [
    "#2.5 clean Missing values - df 1 \n",
    "\n",
    "# 2.5.1 Fill missing values \n",
    "\n",
    "fill_age_value=merge_1['Age'].mean()\n",
    "fill_industry_value='Construction'\n",
    "fill_tenure=merge_1['tenure'].median()\n",
    "\n",
    "merge_1['Age']=merge_1.Age.fillna(fill_age_value).round(0)\n",
    "merge_1['job_industry_category']=merge_1.job_industry_category.fillna(fill_industry_value)\n",
    "merge_1['tenure']=merge_1.tenure.fillna(fill_tenure).round(0)\n",
    "\n",
    "\n",
    "# 2.5.2Drop irrelevant columns- First name, lase name, DOB, job title, \n",
    "\n",
    "merge_1=merge_1.drop(columns=[\"default\",\"DOB\",\"first_name\",\"last_name\",\"job_title\"])\n"
   ]
  },
  {
   "cell_type": "code",
   "execution_count": 17,
   "metadata": {},
   "outputs": [],
   "source": [
    "\n",
    "\n",
    "#Change categorical value to numeric values \n",
    "#Change gender male/female to 1 / 0\n",
    "\n",
    "female_list=['F', 'Femal', 'Female']\n",
    "\n",
    "for i in female_list:\n",
    "    merge_1.loc[merge_1['gender'] == i , 'gender' ] = 0\n",
    "\n",
    "male_list=['U', 'M', 'Male']\n",
    "    \n",
    "for i in male_list:\n",
    "    merge_1.loc[merge_1['gender'] == i , 'gender'] =1\n",
    "\n",
    "\n",
    "\n",
    "#2.6Change region \"QLC, NSW, VIC\" to 1, 2, 3\n",
    "\n"
   ]
  },
  {
   "cell_type": "code",
   "execution_count": 18,
   "metadata": {
    "scrolled": false
   },
   "outputs": [
    {
     "data": {
      "text/plain": [
       "{'NSW', 'New South Wales', 'QLD', 'VIC', 'Victoria', nan}"
      ]
     },
     "execution_count": 18,
     "metadata": {},
     "output_type": "execute_result"
    }
   ],
   "source": [
    "#To see the values in the column\n",
    "set(merge_1['state'])"
   ]
  },
  {
   "cell_type": "code",
   "execution_count": 19,
   "metadata": {
    "scrolled": true
   },
   "outputs": [
    {
     "data": {
      "text/plain": [
       "customer_id                            False\n",
       "gender                                  True\n",
       "past_3_years_bike_related_purchases     True\n",
       "job_industry_category                  False\n",
       "wealth_segment                          True\n",
       "deceased_indicator                      True\n",
       "owns_car                                True\n",
       "tenure                                 False\n",
       "Date                                    True\n",
       "Age                                    False\n",
       "address                                 True\n",
       "postcode                                True\n",
       "state                                   True\n",
       "country                                 True\n",
       "property_valuation                      True\n",
       "_merge                                 False\n",
       "dtype: bool"
      ]
     },
     "execution_count": 19,
     "metadata": {},
     "output_type": "execute_result"
    }
   ],
   "source": [
    "merge_1.isnull().any()"
   ]
  },
  {
   "cell_type": "code",
   "execution_count": 20,
   "metadata": {
    "scrolled": true
   },
   "outputs": [
    {
     "name": "stderr",
     "output_type": "stream",
     "text": [
      "//anaconda3/lib/python3.7/site-packages/ipykernel_launcher.py:5: SettingWithCopyWarning: \n",
      "A value is trying to be set on a copy of a slice from a DataFrame\n",
      "\n",
      "See the caveats in the documentation: http://pandas.pydata.org/pandas-docs/stable/user_guide/indexing.html#returning-a-view-versus-a-copy\n",
      "  \"\"\"\n",
      "//anaconda3/lib/python3.7/site-packages/ipykernel_launcher.py:7: SettingWithCopyWarning: \n",
      "A value is trying to be set on a copy of a slice from a DataFrame\n",
      "\n",
      "See the caveats in the documentation: http://pandas.pydata.org/pandas-docs/stable/user_guide/indexing.html#returning-a-view-versus-a-copy\n",
      "  import sys\n",
      "//anaconda3/lib/python3.7/site-packages/ipykernel_launcher.py:3: SettingWithCopyWarning: \n",
      "A value is trying to be set on a copy of a slice from a DataFrame\n",
      "\n",
      "See the caveats in the documentation: http://pandas.pydata.org/pandas-docs/stable/user_guide/indexing.html#returning-a-view-versus-a-copy\n",
      "  This is separate from the ipykernel package so we can avoid doing imports until\n"
     ]
    }
   ],
   "source": [
    "for i in list(range(0,len(merge_1['state']))):\n",
    "    if merge_1['state'][i] == 'NSW' or merge_1['state'][i] == 'New South Wales':\n",
    "        merge_1['state'][i] = 1\n",
    "    elif merge_1['state'][i] == 'VIC' or merge_1['state'][i] == 'Victoria':\n",
    "        merge_1['state'][i] = 3\n",
    "    elif merge_1['state'][i] == 'QLD':\n",
    "        merge_1['state'][i] = 2\n",
    "        "
   ]
  },
  {
   "cell_type": "code",
   "execution_count": 21,
   "metadata": {
    "scrolled": true
   },
   "outputs": [
    {
     "name": "stdout",
     "output_type": "stream",
     "text": [
      "<class 'pandas.core.frame.DataFrame'>\n",
      "Int64Index: 4003 entries, 69 to 4002\n",
      "Data columns (total 16 columns):\n",
      "customer_id                            4003 non-null int64\n",
      "gender                                 4000 non-null object\n",
      "past_3_years_bike_related_purchases    4000 non-null float64\n",
      "job_industry_category                  4003 non-null object\n",
      "wealth_segment                         4000 non-null object\n",
      "deceased_indicator                     4000 non-null object\n",
      "owns_car                               4000 non-null object\n",
      "tenure                                 4003 non-null float64\n",
      "Date                                   4000 non-null datetime64[ns]\n",
      "Age                                    4003 non-null float64\n",
      "address                                3999 non-null object\n",
      "postcode                               3999 non-null float64\n",
      "state                                  3999 non-null object\n",
      "country                                3999 non-null object\n",
      "property_valuation                     3999 non-null float64\n",
      "_merge                                 4003 non-null category\n",
      "dtypes: category(1), datetime64[ns](1), float64(5), int64(1), object(8)\n",
      "memory usage: 664.4+ KB\n"
     ]
    }
   ],
   "source": [
    "merge_1.info()"
   ]
  },
  {
   "cell_type": "code",
   "execution_count": 22,
   "metadata": {},
   "outputs": [
    {
     "data": {
      "text/html": [
       "<div>\n",
       "<style scoped>\n",
       "    .dataframe tbody tr th:only-of-type {\n",
       "        vertical-align: middle;\n",
       "    }\n",
       "\n",
       "    .dataframe tbody tr th {\n",
       "        vertical-align: top;\n",
       "    }\n",
       "\n",
       "    .dataframe thead th {\n",
       "        text-align: right;\n",
       "    }\n",
       "</style>\n",
       "<table border=\"1\" class=\"dataframe\">\n",
       "  <thead>\n",
       "    <tr style=\"text-align: right;\">\n",
       "      <th></th>\n",
       "      <th>customer_id</th>\n",
       "      <th>gender</th>\n",
       "      <th>past_3_years_bike_related_purchases</th>\n",
       "      <th>job_industry_category</th>\n",
       "      <th>wealth_segment</th>\n",
       "      <th>deceased_indicator</th>\n",
       "      <th>owns_car</th>\n",
       "      <th>tenure</th>\n",
       "      <th>Date</th>\n",
       "      <th>Age</th>\n",
       "      <th>address</th>\n",
       "      <th>postcode</th>\n",
       "      <th>state</th>\n",
       "      <th>country</th>\n",
       "      <th>property_valuation</th>\n",
       "      <th>_merge</th>\n",
       "    </tr>\n",
       "  </thead>\n",
       "  <tbody>\n",
       "    <tr>\n",
       "      <td>69</td>\n",
       "      <td>1</td>\n",
       "      <td>0</td>\n",
       "      <td>93.0</td>\n",
       "      <td>Health</td>\n",
       "      <td>Mass Customer</td>\n",
       "      <td>N</td>\n",
       "      <td>Yes</td>\n",
       "      <td>11.0</td>\n",
       "      <td>2019-11-30</td>\n",
       "      <td>66.0</td>\n",
       "      <td>060 Morning Avenue</td>\n",
       "      <td>2016.0</td>\n",
       "      <td>1</td>\n",
       "      <td>Australia</td>\n",
       "      <td>10.0</td>\n",
       "      <td>both</td>\n",
       "    </tr>\n",
       "    <tr>\n",
       "      <td>2581</td>\n",
       "      <td>2</td>\n",
       "      <td>1</td>\n",
       "      <td>81.0</td>\n",
       "      <td>Financial Services</td>\n",
       "      <td>Mass Customer</td>\n",
       "      <td>N</td>\n",
       "      <td>Yes</td>\n",
       "      <td>16.0</td>\n",
       "      <td>2019-11-30</td>\n",
       "      <td>38.0</td>\n",
       "      <td>6 Meadow Vale Court</td>\n",
       "      <td>2153.0</td>\n",
       "      <td>1</td>\n",
       "      <td>Australia</td>\n",
       "      <td>10.0</td>\n",
       "      <td>both</td>\n",
       "    </tr>\n",
       "    <tr>\n",
       "      <td>87</td>\n",
       "      <td>3</td>\n",
       "      <td>1</td>\n",
       "      <td>61.0</td>\n",
       "      <td>Property</td>\n",
       "      <td>Mass Customer</td>\n",
       "      <td>N</td>\n",
       "      <td>Yes</td>\n",
       "      <td>15.0</td>\n",
       "      <td>2019-11-30</td>\n",
       "      <td>65.0</td>\n",
       "      <td>NaN</td>\n",
       "      <td>NaN</td>\n",
       "      <td>NaN</td>\n",
       "      <td>NaN</td>\n",
       "      <td>NaN</td>\n",
       "      <td>left_only</td>\n",
       "    </tr>\n",
       "    <tr>\n",
       "      <td>544</td>\n",
       "      <td>4</td>\n",
       "      <td>1</td>\n",
       "      <td>33.0</td>\n",
       "      <td>IT</td>\n",
       "      <td>Mass Customer</td>\n",
       "      <td>N</td>\n",
       "      <td>No</td>\n",
       "      <td>7.0</td>\n",
       "      <td>2019-11-30</td>\n",
       "      <td>58.0</td>\n",
       "      <td>0 Holy Cross Court</td>\n",
       "      <td>4211.0</td>\n",
       "      <td>2</td>\n",
       "      <td>Australia</td>\n",
       "      <td>9.0</td>\n",
       "      <td>both</td>\n",
       "    </tr>\n",
       "    <tr>\n",
       "      <td>1910</td>\n",
       "      <td>5</td>\n",
       "      <td>0</td>\n",
       "      <td>56.0</td>\n",
       "      <td>Construction</td>\n",
       "      <td>Affluent Customer</td>\n",
       "      <td>N</td>\n",
       "      <td>Yes</td>\n",
       "      <td>8.0</td>\n",
       "      <td>2019-11-30</td>\n",
       "      <td>42.0</td>\n",
       "      <td>17979 Del Mar Point</td>\n",
       "      <td>2448.0</td>\n",
       "      <td>1</td>\n",
       "      <td>Australia</td>\n",
       "      <td>4.0</td>\n",
       "      <td>both</td>\n",
       "    </tr>\n",
       "    <tr>\n",
       "      <td>...</td>\n",
       "      <td>...</td>\n",
       "      <td>...</td>\n",
       "      <td>...</td>\n",
       "      <td>...</td>\n",
       "      <td>...</td>\n",
       "      <td>...</td>\n",
       "      <td>...</td>\n",
       "      <td>...</td>\n",
       "      <td>...</td>\n",
       "      <td>...</td>\n",
       "      <td>...</td>\n",
       "      <td>...</td>\n",
       "      <td>...</td>\n",
       "      <td>...</td>\n",
       "      <td>...</td>\n",
       "      <td>...</td>\n",
       "    </tr>\n",
       "    <tr>\n",
       "      <td>1495</td>\n",
       "      <td>3999</td>\n",
       "      <td>1</td>\n",
       "      <td>11.0</td>\n",
       "      <td>Manufacturing</td>\n",
       "      <td>Affluent Customer</td>\n",
       "      <td>N</td>\n",
       "      <td>Yes</td>\n",
       "      <td>10.0</td>\n",
       "      <td>2019-11-30</td>\n",
       "      <td>46.0</td>\n",
       "      <td>1482 Hauk Trail</td>\n",
       "      <td>3064.0</td>\n",
       "      <td>3</td>\n",
       "      <td>Australia</td>\n",
       "      <td>3.0</td>\n",
       "      <td>both</td>\n",
       "    </tr>\n",
       "    <tr>\n",
       "      <td>3308</td>\n",
       "      <td>4000</td>\n",
       "      <td>1</td>\n",
       "      <td>76.0</td>\n",
       "      <td>Construction</td>\n",
       "      <td>Affluent Customer</td>\n",
       "      <td>N</td>\n",
       "      <td>No</td>\n",
       "      <td>11.0</td>\n",
       "      <td>2019-11-30</td>\n",
       "      <td>28.0</td>\n",
       "      <td>57042 Village Green Point</td>\n",
       "      <td>4511.0</td>\n",
       "      <td>2</td>\n",
       "      <td>Australia</td>\n",
       "      <td>6.0</td>\n",
       "      <td>both</td>\n",
       "    </tr>\n",
       "    <tr>\n",
       "      <td>4000</td>\n",
       "      <td>4001</td>\n",
       "      <td>NaN</td>\n",
       "      <td>NaN</td>\n",
       "      <td>Construction</td>\n",
       "      <td>NaN</td>\n",
       "      <td>NaN</td>\n",
       "      <td>NaN</td>\n",
       "      <td>11.0</td>\n",
       "      <td>NaT</td>\n",
       "      <td>42.0</td>\n",
       "      <td>87 Crescent Oaks Alley</td>\n",
       "      <td>2756.0</td>\n",
       "      <td>1</td>\n",
       "      <td>Australia</td>\n",
       "      <td>10.0</td>\n",
       "      <td>right_only</td>\n",
       "    </tr>\n",
       "    <tr>\n",
       "      <td>4001</td>\n",
       "      <td>4002</td>\n",
       "      <td>NaN</td>\n",
       "      <td>NaN</td>\n",
       "      <td>Construction</td>\n",
       "      <td>NaN</td>\n",
       "      <td>NaN</td>\n",
       "      <td>NaN</td>\n",
       "      <td>11.0</td>\n",
       "      <td>NaT</td>\n",
       "      <td>42.0</td>\n",
       "      <td>8194 Lien Street</td>\n",
       "      <td>4032.0</td>\n",
       "      <td>2</td>\n",
       "      <td>Australia</td>\n",
       "      <td>7.0</td>\n",
       "      <td>right_only</td>\n",
       "    </tr>\n",
       "    <tr>\n",
       "      <td>4002</td>\n",
       "      <td>4003</td>\n",
       "      <td>NaN</td>\n",
       "      <td>NaN</td>\n",
       "      <td>Construction</td>\n",
       "      <td>NaN</td>\n",
       "      <td>NaN</td>\n",
       "      <td>NaN</td>\n",
       "      <td>11.0</td>\n",
       "      <td>NaT</td>\n",
       "      <td>42.0</td>\n",
       "      <td>320 Acker Drive</td>\n",
       "      <td>2251.0</td>\n",
       "      <td>1</td>\n",
       "      <td>Australia</td>\n",
       "      <td>7.0</td>\n",
       "      <td>right_only</td>\n",
       "    </tr>\n",
       "  </tbody>\n",
       "</table>\n",
       "<p>4003 rows × 16 columns</p>\n",
       "</div>"
      ],
      "text/plain": [
       "      customer_id gender  past_3_years_bike_related_purchases  \\\n",
       "69              1      0                                 93.0   \n",
       "2581            2      1                                 81.0   \n",
       "87              3      1                                 61.0   \n",
       "544             4      1                                 33.0   \n",
       "1910            5      0                                 56.0   \n",
       "...           ...    ...                                  ...   \n",
       "1495         3999      1                                 11.0   \n",
       "3308         4000      1                                 76.0   \n",
       "4000         4001    NaN                                  NaN   \n",
       "4001         4002    NaN                                  NaN   \n",
       "4002         4003    NaN                                  NaN   \n",
       "\n",
       "     job_industry_category     wealth_segment deceased_indicator owns_car  \\\n",
       "69                  Health      Mass Customer                  N      Yes   \n",
       "2581    Financial Services      Mass Customer                  N      Yes   \n",
       "87                Property      Mass Customer                  N      Yes   \n",
       "544                     IT      Mass Customer                  N       No   \n",
       "1910          Construction  Affluent Customer                  N      Yes   \n",
       "...                    ...                ...                ...      ...   \n",
       "1495         Manufacturing  Affluent Customer                  N      Yes   \n",
       "3308          Construction  Affluent Customer                  N       No   \n",
       "4000          Construction                NaN                NaN      NaN   \n",
       "4001          Construction                NaN                NaN      NaN   \n",
       "4002          Construction                NaN                NaN      NaN   \n",
       "\n",
       "      tenure       Date   Age                    address  postcode state  \\\n",
       "69      11.0 2019-11-30  66.0         060 Morning Avenue    2016.0     1   \n",
       "2581    16.0 2019-11-30  38.0        6 Meadow Vale Court    2153.0     1   \n",
       "87      15.0 2019-11-30  65.0                        NaN       NaN   NaN   \n",
       "544      7.0 2019-11-30  58.0         0 Holy Cross Court    4211.0     2   \n",
       "1910     8.0 2019-11-30  42.0        17979 Del Mar Point    2448.0     1   \n",
       "...      ...        ...   ...                        ...       ...   ...   \n",
       "1495    10.0 2019-11-30  46.0            1482 Hauk Trail    3064.0     3   \n",
       "3308    11.0 2019-11-30  28.0  57042 Village Green Point    4511.0     2   \n",
       "4000    11.0        NaT  42.0     87 Crescent Oaks Alley    2756.0     1   \n",
       "4001    11.0        NaT  42.0           8194 Lien Street    4032.0     2   \n",
       "4002    11.0        NaT  42.0            320 Acker Drive    2251.0     1   \n",
       "\n",
       "        country  property_valuation      _merge  \n",
       "69    Australia                10.0        both  \n",
       "2581  Australia                10.0        both  \n",
       "87          NaN                 NaN   left_only  \n",
       "544   Australia                 9.0        both  \n",
       "1910  Australia                 4.0        both  \n",
       "...         ...                 ...         ...  \n",
       "1495  Australia                 3.0        both  \n",
       "3308  Australia                 6.0        both  \n",
       "4000  Australia                10.0  right_only  \n",
       "4001  Australia                 7.0  right_only  \n",
       "4002  Australia                 7.0  right_only  \n",
       "\n",
       "[4003 rows x 16 columns]"
      ]
     },
     "execution_count": 22,
     "metadata": {},
     "output_type": "execute_result"
    }
   ],
   "source": [
    "#re index data frame\n",
    "\n",
    "merge_1.reindex()\n",
    "\n"
   ]
  },
  {
   "cell_type": "code",
   "execution_count": 23,
   "metadata": {},
   "outputs": [
    {
     "name": "stderr",
     "output_type": "stream",
     "text": [
      "//anaconda3/lib/python3.7/site-packages/ipykernel_launcher.py:27: SettingWithCopyWarning: \n",
      "A value is trying to be set on a copy of a slice from a DataFrame\n",
      "\n",
      "See the caveats in the documentation: http://pandas.pydata.org/pandas-docs/stable/user_guide/indexing.html#returning-a-view-versus-a-copy\n",
      "//anaconda3/lib/python3.7/site-packages/pandas/core/indexing.py:205: SettingWithCopyWarning: \n",
      "A value is trying to be set on a copy of a slice from a DataFrame\n",
      "\n",
      "See the caveats in the documentation: http://pandas.pydata.org/pandas-docs/stable/user_guide/indexing.html#returning-a-view-versus-a-copy\n",
      "  self._setitem_with_indexer(indexer, value)\n",
      "//anaconda3/lib/python3.7/site-packages/ipykernel_launcher.py:31: SettingWithCopyWarning: \n",
      "A value is trying to be set on a copy of a slice from a DataFrame\n",
      "\n",
      "See the caveats in the documentation: http://pandas.pydata.org/pandas-docs/stable/user_guide/indexing.html#returning-a-view-versus-a-copy\n",
      "//anaconda3/lib/python3.7/site-packages/ipykernel_launcher.py:29: SettingWithCopyWarning: \n",
      "A value is trying to be set on a copy of a slice from a DataFrame\n",
      "\n",
      "See the caveats in the documentation: http://pandas.pydata.org/pandas-docs/stable/user_guide/indexing.html#returning-a-view-versus-a-copy\n",
      "//anaconda3/lib/python3.7/site-packages/ipykernel_launcher.py:25: SettingWithCopyWarning: \n",
      "A value is trying to be set on a copy of a slice from a DataFrame\n",
      "\n",
      "See the caveats in the documentation: http://pandas.pydata.org/pandas-docs/stable/user_guide/indexing.html#returning-a-view-versus-a-copy\n",
      "//anaconda3/lib/python3.7/site-packages/ipykernel_launcher.py:23: SettingWithCopyWarning: \n",
      "A value is trying to be set on a copy of a slice from a DataFrame\n",
      "\n",
      "See the caveats in the documentation: http://pandas.pydata.org/pandas-docs/stable/user_guide/indexing.html#returning-a-view-versus-a-copy\n"
     ]
    }
   ],
   "source": [
    "#2.7 Group-Age \n",
    "\n",
    "\n",
    "\"\"\"\n",
    "Age: \n",
    "\n",
    "age =<20       Gen Z\n",
    "21=< age =< 35  Gen Y  \n",
    "36=< age =< 50  Gen X\n",
    "51=< age =< 65  Baby Boomers\n",
    "age >= 65      Traditionalists\n",
    "\n",
    "\n",
    "\"\"\"\n",
    "\n",
    "\n",
    "#Change to group name \n",
    "\n",
    "merge_1['Age_group']=merge_1['Age']\n",
    "\n",
    "for i in range(0,len(merge_1['Age'])):\n",
    "    if merge_1['Age'][i] <= 20:\n",
    "        merge_1['Age_group'][i]='Gen Z'\n",
    "    elif merge_1['Age'][i] >= 21 and merge_1['Age'][i] <= 35:\n",
    "        merge_1['Age_group'][i]='Gen Y'\n",
    "    elif merge_1['Age'][i] >= 36 and merge_1['Age'][i] <= 50:\n",
    "        merge_1['Age_group'][i]='Gen X'\n",
    "    elif merge_1['Age'][i] >= 51 and merge_1['Age'][i] <= 65:\n",
    "        merge_1['Age_group'][i]='Baby Boomers'\n",
    "    elif merge_1['Age'][i] > 65:\n",
    "        merge_1['Age_group'][i]='Silent Generation'\n",
    "\n"
   ]
  },
  {
   "cell_type": "code",
   "execution_count": 24,
   "metadata": {},
   "outputs": [],
   "source": [
    "# 2.8 drop missing values\n",
    "\n",
    "merge_1=merge_1.dropna().round(2)"
   ]
  },
  {
   "cell_type": "code",
   "execution_count": 25,
   "metadata": {},
   "outputs": [],
   "source": [
    "#2.9 Merge the clean customer info(merge_1) with transaction sheet "
   ]
  },
  {
   "cell_type": "code",
   "execution_count": 26,
   "metadata": {},
   "outputs": [
    {
     "name": "stdout",
     "output_type": "stream",
     "text": [
      "transaction_id                           0\n",
      "product_id                               0\n",
      "customer_id                              0\n",
      "transaction_date                         0\n",
      "online_order                           360\n",
      "order_status                             0\n",
      "brand                                  197\n",
      "product_line                           197\n",
      "product_class                          197\n",
      "product_size                           197\n",
      "list_price                               0\n",
      "standard_cost                          197\n",
      "profit_rate                            197\n",
      "product_first_sold_date                197\n",
      "gender                                  32\n",
      "past_3_years_bike_related_purchases     32\n",
      "job_industry_category                   32\n",
      "wealth_segment                          32\n",
      "deceased_indicator                      32\n",
      "owns_car                                32\n",
      "tenure                                  32\n",
      "Date                                    32\n",
      "Age                                     32\n",
      "address                                 32\n",
      "postcode                                32\n",
      "state                                   32\n",
      "country                                 32\n",
      "property_valuation                      32\n",
      "_merge                                  32\n",
      "Age_group                               32\n",
      "dtype: int64\n",
      "transaction_id                         0.00000\n",
      "product_id                             0.00000\n",
      "customer_id                            0.00000\n",
      "transaction_date                       0.00000\n",
      "online_order                           0.01800\n",
      "order_status                           0.00000\n",
      "brand                                  0.00985\n",
      "product_line                           0.00985\n",
      "product_class                          0.00985\n",
      "product_size                           0.00985\n",
      "list_price                             0.00000\n",
      "standard_cost                          0.00985\n",
      "profit_rate                            0.00985\n",
      "product_first_sold_date                0.00985\n",
      "gender                                 0.00160\n",
      "past_3_years_bike_related_purchases    0.00160\n",
      "job_industry_category                  0.00160\n",
      "wealth_segment                         0.00160\n",
      "deceased_indicator                     0.00160\n",
      "owns_car                               0.00160\n",
      "tenure                                 0.00160\n",
      "Date                                   0.00160\n",
      "Age                                    0.00160\n",
      "address                                0.00160\n",
      "postcode                               0.00160\n",
      "state                                  0.00160\n",
      "country                                0.00160\n",
      "property_valuation                     0.00160\n",
      "_merge                                 0.00160\n",
      "Age_group                              0.00160\n",
      "dtype: float64\n"
     ]
    },
    {
     "data": {
      "text/plain": [
       "'\\n\\n1.drop values if the percentage of missing values is less than 1%\\n2. Fill missing values:\\n    online order: random fill in True/False \\n\\n'"
      ]
     },
     "execution_count": 26,
     "metadata": {},
     "output_type": "execute_result"
    }
   ],
   "source": [
    "#2.9.1Merge datastes- Demo+add+Transaction\n",
    "\n",
    "\n",
    "merge_transaction= pd.merge(transaction, merge_1, on='customer_id', how='left' ) #Left merge \n",
    "\n",
    "print(merge_transaction.isnull().sum())\n",
    "print(merge_transaction.isnull().sum()/len(transaction))\n",
    "\n",
    "#2.9.2 determine missing values straegy\n",
    "\n",
    "\"\"\"\n",
    "\n",
    "1.drop values if the percentage of missing values is less than 1%\n",
    "2. Fill missing values:\n",
    "    online order: random fill in True/False \n",
    "\n",
    "\"\"\""
   ]
  },
  {
   "cell_type": "code",
   "execution_count": null,
   "metadata": {},
   "outputs": [],
   "source": []
  },
  {
   "cell_type": "code",
   "execution_count": 27,
   "metadata": {},
   "outputs": [],
   "source": [
    "#2.9.3 fill the missing values "
   ]
  },
  {
   "cell_type": "code",
   "execution_count": 28,
   "metadata": {},
   "outputs": [],
   "source": [
    "#Randomly generate 0 or 1 \n",
    "fill_online_value=random.randint(0,1)\n",
    "merge_transaction['online_order']=merge_transaction.online_order.fillna(fill_online_value).round(0)"
   ]
  },
  {
   "cell_type": "code",
   "execution_count": 29,
   "metadata": {},
   "outputs": [
    {
     "name": "stderr",
     "output_type": "stream",
     "text": [
      "//anaconda3/lib/python3.7/site-packages/ipykernel_launcher.py:23: SettingWithCopyWarning: \n",
      "A value is trying to be set on a copy of a slice from a DataFrame\n",
      "\n",
      "See the caveats in the documentation: http://pandas.pydata.org/pandas-docs/stable/user_guide/indexing.html#returning-a-view-versus-a-copy\n",
      "//anaconda3/lib/python3.7/site-packages/ipykernel_launcher.py:25: SettingWithCopyWarning: \n",
      "A value is trying to be set on a copy of a slice from a DataFrame\n",
      "\n",
      "See the caveats in the documentation: http://pandas.pydata.org/pandas-docs/stable/user_guide/indexing.html#returning-a-view-versus-a-copy\n",
      "//anaconda3/lib/python3.7/site-packages/ipykernel_launcher.py:27: SettingWithCopyWarning: \n",
      "A value is trying to be set on a copy of a slice from a DataFrame\n",
      "\n",
      "See the caveats in the documentation: http://pandas.pydata.org/pandas-docs/stable/user_guide/indexing.html#returning-a-view-versus-a-copy\n",
      "//anaconda3/lib/python3.7/site-packages/ipykernel_launcher.py:21: SettingWithCopyWarning: \n",
      "A value is trying to be set on a copy of a slice from a DataFrame\n",
      "\n",
      "See the caveats in the documentation: http://pandas.pydata.org/pandas-docs/stable/user_guide/indexing.html#returning-a-view-versus-a-copy\n",
      "//anaconda3/lib/python3.7/site-packages/ipykernel_launcher.py:19: SettingWithCopyWarning: \n",
      "A value is trying to be set on a copy of a slice from a DataFrame\n",
      "\n",
      "See the caveats in the documentation: http://pandas.pydata.org/pandas-docs/stable/user_guide/indexing.html#returning-a-view-versus-a-copy\n"
     ]
    }
   ],
   "source": [
    "#2.9.4 Group Profit-> Create profit level\n",
    "\n",
    "\n",
    "\"\"\"\n",
    "\n",
    "< 10 % -> Low \n",
    "10% < x < 24% -> Mid-lower  \n",
    "24%<  x < 40% -> Mid\n",
    "40%< x < 60% -> upper-mid\n",
    ">60% -> High\n",
    "\n",
    "\"\"\"\n",
    "\n",
    "merge_transaction['Profit_level']=merge_transaction['profit_rate']\n",
    "\n",
    "\n",
    "for i in list(range(0,len(merge_transaction))):\n",
    "    if merge_transaction['profit_rate'][i] <= 0.1:\n",
    "        merge_transaction['Profit_level'][i] = 'low'\n",
    "    elif merge_transaction['profit_rate'][i] >0.1 and merge_transaction['profit_rate'][i] <= 0.24:\n",
    "        merge_transaction['Profit_level'][i] =  'mid-low'\n",
    "    elif merge_transaction['profit_rate'][i] > 0.24 and merge_transaction['profit_rate'][i] <= 0.4:\n",
    "        merge_transaction['Profit_level'][i]='mid'\n",
    "    elif merge_transaction['profit_rate'][i] > 0.4 and merge_transaction['profit_rate'][i] <= 0.6:\n",
    "        merge_transaction['Profit_level'][i]='upper-mid'\n",
    "    elif merge_transaction['profit_rate'][i] > 0.6:\n",
    "        merge_transaction['Profit_level'][i] = 'high'"
   ]
  },
  {
   "cell_type": "code",
   "execution_count": 30,
   "metadata": {},
   "outputs": [],
   "source": [
    "#2.9.5 drop missing values\n",
    "merge_transaction=merge_transaction.dropna()"
   ]
  },
  {
   "cell_type": "code",
   "execution_count": 33,
   "metadata": {},
   "outputs": [],
   "source": [
    "merge_transaction.to_csv(\"merge_transaction.csv\")"
   ]
  },
  {
   "cell_type": "code",
   "execution_count": null,
   "metadata": {},
   "outputs": [],
   "source": []
  },
  {
   "cell_type": "code",
   "execution_count": 31,
   "metadata": {
    "scrolled": true
   },
   "outputs": [
    {
     "name": "stdout",
     "output_type": "stream",
     "text": [
      "transaction_id                         0\n",
      "product_id                             0\n",
      "customer_id                            0\n",
      "transaction_date                       0\n",
      "online_order                           0\n",
      "order_status                           0\n",
      "brand                                  0\n",
      "product_line                           0\n",
      "product_class                          0\n",
      "product_size                           0\n",
      "list_price                             0\n",
      "standard_cost                          0\n",
      "profit_rate                            0\n",
      "product_first_sold_date                0\n",
      "gender                                 0\n",
      "past_3_years_bike_related_purchases    0\n",
      "job_industry_category                  0\n",
      "wealth_segment                         0\n",
      "deceased_indicator                     0\n",
      "owns_car                               0\n",
      "tenure                                 0\n",
      "Date                                   0\n",
      "Age                                    0\n",
      "address                                0\n",
      "postcode                               0\n",
      "state                                  0\n",
      "country                                0\n",
      "property_valuation                     0\n",
      "_merge                                 0\n",
      "Age_group                              0\n",
      "Profit_level                           0\n",
      "dtype: int64\n"
     ]
    }
   ],
   "source": [
    "print(merge_transaction.isnull().sum())"
   ]
  },
  {
   "cell_type": "code",
   "execution_count": 32,
   "metadata": {},
   "outputs": [
    {
     "data": {
      "text/plain": [
       "'\\nBig pic\\n\\n\\n\\n\\n\\n'"
      ]
     },
     "execution_count": 32,
     "metadata": {},
     "output_type": "execute_result"
    }
   ],
   "source": [
    "#Business questions- what I want to know\n",
    "\"\"\"\n",
    "Big pic\n",
    "\n",
    "\n",
    "\n",
    "\n",
    "\n",
    "\"\"\""
   ]
  },
  {
   "cell_type": "code",
   "execution_count": null,
   "metadata": {},
   "outputs": [],
   "source": []
  },
  {
   "cell_type": "code",
   "execution_count": null,
   "metadata": {},
   "outputs": [],
   "source": []
  },
  {
   "cell_type": "code",
   "execution_count": null,
   "metadata": {},
   "outputs": [],
   "source": []
  },
  {
   "cell_type": "code",
   "execution_count": null,
   "metadata": {},
   "outputs": [],
   "source": []
  },
  {
   "cell_type": "code",
   "execution_count": null,
   "metadata": {},
   "outputs": [],
   "source": []
  },
  {
   "cell_type": "code",
   "execution_count": null,
   "metadata": {},
   "outputs": [],
   "source": []
  },
  {
   "cell_type": "code",
   "execution_count": null,
   "metadata": {},
   "outputs": [],
   "source": []
  },
  {
   "cell_type": "code",
   "execution_count": null,
   "metadata": {},
   "outputs": [],
   "source": []
  },
  {
   "cell_type": "code",
   "execution_count": null,
   "metadata": {},
   "outputs": [],
   "source": []
  },
  {
   "cell_type": "code",
   "execution_count": null,
   "metadata": {},
   "outputs": [],
   "source": []
  },
  {
   "cell_type": "code",
   "execution_count": null,
   "metadata": {},
   "outputs": [],
   "source": []
  },
  {
   "cell_type": "code",
   "execution_count": null,
   "metadata": {},
   "outputs": [],
   "source": []
  },
  {
   "cell_type": "code",
   "execution_count": null,
   "metadata": {},
   "outputs": [],
   "source": []
  },
  {
   "cell_type": "code",
   "execution_count": null,
   "metadata": {},
   "outputs": [],
   "source": []
  },
  {
   "cell_type": "code",
   "execution_count": null,
   "metadata": {},
   "outputs": [],
   "source": []
  },
  {
   "cell_type": "code",
   "execution_count": null,
   "metadata": {},
   "outputs": [],
   "source": []
  },
  {
   "cell_type": "code",
   "execution_count": null,
   "metadata": {},
   "outputs": [],
   "source": []
  },
  {
   "cell_type": "code",
   "execution_count": null,
   "metadata": {},
   "outputs": [],
   "source": []
  },
  {
   "cell_type": "code",
   "execution_count": null,
   "metadata": {},
   "outputs": [],
   "source": []
  },
  {
   "cell_type": "code",
   "execution_count": null,
   "metadata": {},
   "outputs": [],
   "source": []
  },
  {
   "cell_type": "code",
   "execution_count": null,
   "metadata": {},
   "outputs": [],
   "source": []
  },
  {
   "cell_type": "code",
   "execution_count": null,
   "metadata": {},
   "outputs": [],
   "source": []
  },
  {
   "cell_type": "code",
   "execution_count": null,
   "metadata": {},
   "outputs": [],
   "source": []
  },
  {
   "cell_type": "code",
   "execution_count": null,
   "metadata": {},
   "outputs": [],
   "source": []
  },
  {
   "cell_type": "code",
   "execution_count": null,
   "metadata": {},
   "outputs": [],
   "source": []
  },
  {
   "cell_type": "code",
   "execution_count": null,
   "metadata": {},
   "outputs": [],
   "source": []
  },
  {
   "cell_type": "code",
   "execution_count": null,
   "metadata": {},
   "outputs": [],
   "source": []
  },
  {
   "cell_type": "code",
   "execution_count": null,
   "metadata": {},
   "outputs": [],
   "source": []
  },
  {
   "cell_type": "code",
   "execution_count": null,
   "metadata": {},
   "outputs": [],
   "source": []
  },
  {
   "cell_type": "code",
   "execution_count": null,
   "metadata": {},
   "outputs": [],
   "source": []
  },
  {
   "cell_type": "code",
   "execution_count": null,
   "metadata": {},
   "outputs": [],
   "source": []
  },
  {
   "cell_type": "code",
   "execution_count": null,
   "metadata": {},
   "outputs": [],
   "source": []
  },
  {
   "cell_type": "code",
   "execution_count": null,
   "metadata": {},
   "outputs": [],
   "source": []
  },
  {
   "cell_type": "code",
   "execution_count": null,
   "metadata": {},
   "outputs": [],
   "source": []
  },
  {
   "cell_type": "code",
   "execution_count": null,
   "metadata": {},
   "outputs": [],
   "source": []
  },
  {
   "cell_type": "code",
   "execution_count": null,
   "metadata": {},
   "outputs": [],
   "source": []
  },
  {
   "cell_type": "code",
   "execution_count": null,
   "metadata": {},
   "outputs": [],
   "source": []
  },
  {
   "cell_type": "code",
   "execution_count": null,
   "metadata": {},
   "outputs": [],
   "source": []
  },
  {
   "cell_type": "code",
   "execution_count": null,
   "metadata": {},
   "outputs": [],
   "source": []
  },
  {
   "cell_type": "code",
   "execution_count": null,
   "metadata": {},
   "outputs": [],
   "source": []
  },
  {
   "cell_type": "code",
   "execution_count": null,
   "metadata": {},
   "outputs": [],
   "source": []
  },
  {
   "cell_type": "code",
   "execution_count": null,
   "metadata": {},
   "outputs": [],
   "source": []
  },
  {
   "cell_type": "code",
   "execution_count": null,
   "metadata": {},
   "outputs": [],
   "source": []
  },
  {
   "cell_type": "code",
   "execution_count": null,
   "metadata": {},
   "outputs": [],
   "source": []
  },
  {
   "cell_type": "code",
   "execution_count": null,
   "metadata": {},
   "outputs": [],
   "source": []
  },
  {
   "cell_type": "code",
   "execution_count": null,
   "metadata": {},
   "outputs": [],
   "source": []
  },
  {
   "cell_type": "code",
   "execution_count": null,
   "metadata": {},
   "outputs": [],
   "source": []
  },
  {
   "cell_type": "code",
   "execution_count": null,
   "metadata": {},
   "outputs": [],
   "source": []
  },
  {
   "cell_type": "code",
   "execution_count": null,
   "metadata": {},
   "outputs": [],
   "source": []
  },
  {
   "cell_type": "code",
   "execution_count": null,
   "metadata": {},
   "outputs": [],
   "source": []
  },
  {
   "cell_type": "code",
   "execution_count": null,
   "metadata": {},
   "outputs": [],
   "source": []
  },
  {
   "cell_type": "code",
   "execution_count": null,
   "metadata": {},
   "outputs": [],
   "source": []
  },
  {
   "cell_type": "code",
   "execution_count": null,
   "metadata": {},
   "outputs": [],
   "source": []
  },
  {
   "cell_type": "code",
   "execution_count": null,
   "metadata": {},
   "outputs": [],
   "source": []
  },
  {
   "cell_type": "code",
   "execution_count": null,
   "metadata": {},
   "outputs": [],
   "source": []
  },
  {
   "cell_type": "code",
   "execution_count": null,
   "metadata": {},
   "outputs": [],
   "source": []
  },
  {
   "cell_type": "code",
   "execution_count": null,
   "metadata": {},
   "outputs": [],
   "source": []
  },
  {
   "cell_type": "code",
   "execution_count": null,
   "metadata": {},
   "outputs": [],
   "source": []
  },
  {
   "cell_type": "code",
   "execution_count": null,
   "metadata": {},
   "outputs": [],
   "source": []
  },
  {
   "cell_type": "code",
   "execution_count": null,
   "metadata": {},
   "outputs": [],
   "source": []
  },
  {
   "cell_type": "code",
   "execution_count": null,
   "metadata": {},
   "outputs": [],
   "source": []
  },
  {
   "cell_type": "code",
   "execution_count": null,
   "metadata": {},
   "outputs": [],
   "source": []
  },
  {
   "cell_type": "code",
   "execution_count": null,
   "metadata": {},
   "outputs": [],
   "source": []
  },
  {
   "cell_type": "code",
   "execution_count": null,
   "metadata": {},
   "outputs": [],
   "source": []
  },
  {
   "cell_type": "code",
   "execution_count": null,
   "metadata": {},
   "outputs": [],
   "source": []
  },
  {
   "cell_type": "code",
   "execution_count": null,
   "metadata": {},
   "outputs": [],
   "source": []
  },
  {
   "cell_type": "code",
   "execution_count": null,
   "metadata": {},
   "outputs": [],
   "source": []
  },
  {
   "cell_type": "code",
   "execution_count": null,
   "metadata": {},
   "outputs": [],
   "source": []
  },
  {
   "cell_type": "code",
   "execution_count": null,
   "metadata": {},
   "outputs": [],
   "source": []
  },
  {
   "cell_type": "code",
   "execution_count": null,
   "metadata": {},
   "outputs": [],
   "source": []
  },
  {
   "cell_type": "code",
   "execution_count": null,
   "metadata": {},
   "outputs": [],
   "source": []
  },
  {
   "cell_type": "code",
   "execution_count": null,
   "metadata": {},
   "outputs": [],
   "source": []
  },
  {
   "cell_type": "code",
   "execution_count": null,
   "metadata": {},
   "outputs": [],
   "source": []
  },
  {
   "cell_type": "code",
   "execution_count": null,
   "metadata": {},
   "outputs": [],
   "source": []
  },
  {
   "cell_type": "code",
   "execution_count": null,
   "metadata": {},
   "outputs": [],
   "source": []
  },
  {
   "cell_type": "code",
   "execution_count": null,
   "metadata": {},
   "outputs": [],
   "source": []
  },
  {
   "cell_type": "code",
   "execution_count": null,
   "metadata": {},
   "outputs": [],
   "source": []
  },
  {
   "cell_type": "code",
   "execution_count": null,
   "metadata": {},
   "outputs": [],
   "source": []
  },
  {
   "cell_type": "code",
   "execution_count": null,
   "metadata": {},
   "outputs": [],
   "source": []
  },
  {
   "cell_type": "code",
   "execution_count": null,
   "metadata": {},
   "outputs": [],
   "source": []
  },
  {
   "cell_type": "code",
   "execution_count": null,
   "metadata": {},
   "outputs": [],
   "source": []
  },
  {
   "cell_type": "code",
   "execution_count": null,
   "metadata": {},
   "outputs": [],
   "source": []
  },
  {
   "cell_type": "code",
   "execution_count": null,
   "metadata": {},
   "outputs": [],
   "source": []
  },
  {
   "cell_type": "code",
   "execution_count": null,
   "metadata": {},
   "outputs": [],
   "source": []
  },
  {
   "cell_type": "code",
   "execution_count": null,
   "metadata": {},
   "outputs": [],
   "source": []
  },
  {
   "cell_type": "code",
   "execution_count": null,
   "metadata": {},
   "outputs": [],
   "source": []
  },
  {
   "cell_type": "code",
   "execution_count": null,
   "metadata": {},
   "outputs": [],
   "source": []
  },
  {
   "cell_type": "code",
   "execution_count": null,
   "metadata": {},
   "outputs": [],
   "source": []
  },
  {
   "cell_type": "code",
   "execution_count": null,
   "metadata": {},
   "outputs": [],
   "source": []
  },
  {
   "cell_type": "code",
   "execution_count": null,
   "metadata": {},
   "outputs": [],
   "source": []
  },
  {
   "cell_type": "code",
   "execution_count": null,
   "metadata": {},
   "outputs": [],
   "source": []
  },
  {
   "cell_type": "code",
   "execution_count": null,
   "metadata": {},
   "outputs": [],
   "source": []
  },
  {
   "cell_type": "code",
   "execution_count": null,
   "metadata": {},
   "outputs": [],
   "source": []
  },
  {
   "cell_type": "code",
   "execution_count": null,
   "metadata": {},
   "outputs": [],
   "source": []
  },
  {
   "cell_type": "code",
   "execution_count": null,
   "metadata": {},
   "outputs": [],
   "source": []
  },
  {
   "cell_type": "code",
   "execution_count": null,
   "metadata": {},
   "outputs": [],
   "source": []
  },
  {
   "cell_type": "code",
   "execution_count": null,
   "metadata": {},
   "outputs": [],
   "source": []
  },
  {
   "cell_type": "code",
   "execution_count": null,
   "metadata": {},
   "outputs": [],
   "source": []
  },
  {
   "cell_type": "code",
   "execution_count": null,
   "metadata": {},
   "outputs": [],
   "source": []
  },
  {
   "cell_type": "code",
   "execution_count": null,
   "metadata": {},
   "outputs": [],
   "source": []
  },
  {
   "cell_type": "code",
   "execution_count": null,
   "metadata": {},
   "outputs": [],
   "source": []
  },
  {
   "cell_type": "code",
   "execution_count": null,
   "metadata": {},
   "outputs": [],
   "source": []
  },
  {
   "cell_type": "code",
   "execution_count": null,
   "metadata": {},
   "outputs": [],
   "source": []
  },
  {
   "cell_type": "code",
   "execution_count": null,
   "metadata": {},
   "outputs": [],
   "source": []
  },
  {
   "cell_type": "code",
   "execution_count": null,
   "metadata": {},
   "outputs": [],
   "source": []
  },
  {
   "cell_type": "code",
   "execution_count": null,
   "metadata": {},
   "outputs": [],
   "source": []
  },
  {
   "cell_type": "code",
   "execution_count": null,
   "metadata": {},
   "outputs": [],
   "source": []
  },
  {
   "cell_type": "code",
   "execution_count": null,
   "metadata": {},
   "outputs": [],
   "source": []
  },
  {
   "cell_type": "code",
   "execution_count": null,
   "metadata": {},
   "outputs": [],
   "source": []
  },
  {
   "cell_type": "code",
   "execution_count": null,
   "metadata": {},
   "outputs": [],
   "source": []
  },
  {
   "cell_type": "code",
   "execution_count": null,
   "metadata": {},
   "outputs": [],
   "source": []
  },
  {
   "cell_type": "code",
   "execution_count": null,
   "metadata": {},
   "outputs": [],
   "source": []
  },
  {
   "cell_type": "code",
   "execution_count": null,
   "metadata": {},
   "outputs": [],
   "source": []
  },
  {
   "cell_type": "code",
   "execution_count": null,
   "metadata": {},
   "outputs": [],
   "source": []
  },
  {
   "cell_type": "code",
   "execution_count": null,
   "metadata": {},
   "outputs": [],
   "source": []
  },
  {
   "cell_type": "code",
   "execution_count": null,
   "metadata": {},
   "outputs": [],
   "source": []
  },
  {
   "cell_type": "code",
   "execution_count": null,
   "metadata": {},
   "outputs": [],
   "source": []
  },
  {
   "cell_type": "code",
   "execution_count": null,
   "metadata": {},
   "outputs": [],
   "source": []
  },
  {
   "cell_type": "code",
   "execution_count": null,
   "metadata": {},
   "outputs": [],
   "source": []
  },
  {
   "cell_type": "code",
   "execution_count": null,
   "metadata": {},
   "outputs": [],
   "source": []
  },
  {
   "cell_type": "code",
   "execution_count": null,
   "metadata": {},
   "outputs": [],
   "source": []
  },
  {
   "cell_type": "code",
   "execution_count": null,
   "metadata": {},
   "outputs": [],
   "source": []
  },
  {
   "cell_type": "code",
   "execution_count": null,
   "metadata": {},
   "outputs": [],
   "source": []
  },
  {
   "cell_type": "code",
   "execution_count": null,
   "metadata": {},
   "outputs": [],
   "source": []
  },
  {
   "cell_type": "code",
   "execution_count": null,
   "metadata": {},
   "outputs": [],
   "source": []
  },
  {
   "cell_type": "code",
   "execution_count": null,
   "metadata": {},
   "outputs": [],
   "source": []
  },
  {
   "cell_type": "code",
   "execution_count": null,
   "metadata": {},
   "outputs": [],
   "source": []
  },
  {
   "cell_type": "code",
   "execution_count": null,
   "metadata": {},
   "outputs": [],
   "source": []
  },
  {
   "cell_type": "code",
   "execution_count": null,
   "metadata": {},
   "outputs": [],
   "source": []
  },
  {
   "cell_type": "code",
   "execution_count": null,
   "metadata": {},
   "outputs": [],
   "source": []
  },
  {
   "cell_type": "code",
   "execution_count": null,
   "metadata": {},
   "outputs": [],
   "source": []
  },
  {
   "cell_type": "code",
   "execution_count": null,
   "metadata": {},
   "outputs": [],
   "source": []
  },
  {
   "cell_type": "code",
   "execution_count": null,
   "metadata": {},
   "outputs": [],
   "source": []
  },
  {
   "cell_type": "code",
   "execution_count": null,
   "metadata": {},
   "outputs": [],
   "source": []
  },
  {
   "cell_type": "code",
   "execution_count": null,
   "metadata": {},
   "outputs": [],
   "source": []
  },
  {
   "cell_type": "code",
   "execution_count": null,
   "metadata": {},
   "outputs": [],
   "source": []
  },
  {
   "cell_type": "code",
   "execution_count": null,
   "metadata": {},
   "outputs": [],
   "source": []
  },
  {
   "cell_type": "code",
   "execution_count": null,
   "metadata": {},
   "outputs": [],
   "source": []
  },
  {
   "cell_type": "code",
   "execution_count": null,
   "metadata": {},
   "outputs": [],
   "source": []
  },
  {
   "cell_type": "code",
   "execution_count": null,
   "metadata": {},
   "outputs": [],
   "source": []
  },
  {
   "cell_type": "code",
   "execution_count": null,
   "metadata": {},
   "outputs": [],
   "source": []
  },
  {
   "cell_type": "code",
   "execution_count": null,
   "metadata": {},
   "outputs": [],
   "source": []
  },
  {
   "cell_type": "code",
   "execution_count": null,
   "metadata": {},
   "outputs": [],
   "source": []
  },
  {
   "cell_type": "code",
   "execution_count": null,
   "metadata": {},
   "outputs": [],
   "source": []
  },
  {
   "cell_type": "code",
   "execution_count": null,
   "metadata": {},
   "outputs": [],
   "source": []
  },
  {
   "cell_type": "code",
   "execution_count": null,
   "metadata": {},
   "outputs": [],
   "source": []
  },
  {
   "cell_type": "code",
   "execution_count": null,
   "metadata": {},
   "outputs": [],
   "source": []
  },
  {
   "cell_type": "code",
   "execution_count": null,
   "metadata": {},
   "outputs": [],
   "source": []
  },
  {
   "cell_type": "code",
   "execution_count": null,
   "metadata": {},
   "outputs": [],
   "source": []
  },
  {
   "cell_type": "code",
   "execution_count": null,
   "metadata": {},
   "outputs": [],
   "source": []
  },
  {
   "cell_type": "code",
   "execution_count": null,
   "metadata": {},
   "outputs": [],
   "source": []
  }
 ],
 "metadata": {
  "kernelspec": {
   "display_name": "Python 3",
   "language": "python",
   "name": "python3"
  },
  "language_info": {
   "codemirror_mode": {
    "name": "ipython",
    "version": 3
   },
   "file_extension": ".py",
   "mimetype": "text/x-python",
   "name": "python",
   "nbconvert_exporter": "python",
   "pygments_lexer": "ipython3",
   "version": "3.7.3"
  },
  "toc": {
   "base_numbering": 1,
   "nav_menu": {},
   "number_sections": true,
   "sideBar": true,
   "skip_h1_title": false,
   "title_cell": "Table of Contents",
   "title_sidebar": "Contents",
   "toc_cell": false,
   "toc_position": {},
   "toc_section_display": true,
   "toc_window_display": false
  },
  "varInspector": {
   "cols": {
    "lenName": 16,
    "lenType": 16,
    "lenVar": 40
   },
   "kernels_config": {
    "python": {
     "delete_cmd_postfix": "",
     "delete_cmd_prefix": "del ",
     "library": "var_list.py",
     "varRefreshCmd": "print(var_dic_list())"
    },
    "r": {
     "delete_cmd_postfix": ") ",
     "delete_cmd_prefix": "rm(",
     "library": "var_list.r",
     "varRefreshCmd": "cat(var_dic_list()) "
    }
   },
   "types_to_exclude": [
    "module",
    "function",
    "builtin_function_or_method",
    "instance",
    "_Feature"
   ],
   "window_display": false
  }
 },
 "nbformat": 4,
 "nbformat_minor": 2
}
